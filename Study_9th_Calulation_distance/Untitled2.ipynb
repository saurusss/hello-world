{
 "cells": [
  {
   "cell_type": "code",
<<<<<<< HEAD
   "execution_count": 15,
   "metadata": {},
   "outputs": [
    {
     "ename": "TypeError",
     "evalue": "not enough arguments for format string",
     "output_type": "error",
     "traceback": [
      "\u001b[1;31m---------------------------------------------------------------------------\u001b[0m",
      "\u001b[1;31mTypeError\u001b[0m                                 Traceback (most recent call last)",
      "\u001b[1;32m<ipython-input-15-da1ec4472057>\u001b[0m in \u001b[0;36m<module>\u001b[1;34m()\u001b[0m\n\u001b[0;32m      3\u001b[0m \u001b[1;33m\u001b[0m\u001b[0m\n\u001b[0;32m      4\u001b[0m \u001b[1;32mwith\u001b[0m \u001b[0mopen\u001b[0m\u001b[1;33m(\u001b[0m\u001b[1;34mr'c:\\temp\\aaa.txt'\u001b[0m\u001b[1;33m,\u001b[0m \u001b[1;34m'a'\u001b[0m\u001b[1;33m)\u001b[0m \u001b[1;32mas\u001b[0m \u001b[0mf\u001b[0m\u001b[1;33m:\u001b[0m\u001b[1;33m\u001b[0m\u001b[0m\n\u001b[1;32m----> 5\u001b[1;33m           \u001b[0mf\u001b[0m\u001b[1;33m.\u001b[0m\u001b[0mwrite\u001b[0m\u001b[1;33m(\u001b[0m\u001b[1;34m'this is test   %d   %s \\n'\u001b[0m   \u001b[1;33m%\u001b[0m\u001b[0mcnt\u001b[0m\u001b[1;33m,\u001b[0m   \u001b[0mwo\u001b[0m \u001b[1;33m)\u001b[0m\u001b[1;33m\u001b[0m\u001b[0m\n\u001b[0m",
      "\u001b[1;31mTypeError\u001b[0m: not enough arguments for format string"
=======
   "execution_count": 1,
   "metadata": {},
   "outputs": [],
   "source": [
    "from math import sin, cos, sqrt, atan2, radians \n",
    "# approximate radius of earth in km\n",
    "R = 6373.0 \n",
    "# lat1 = radians(52.2296756) \n",
    "# lon1 = radians(21.0122287) \n",
    "# lat2 = radians(52.406374) \n",
    "# lon2 = radians(16.9251681) \n",
    "lat1 = radians(37.8821732\t)\n",
    "lon1 = radians( 127.5473771)\n",
    "lat2 = radians( 37.8310677\t)\n",
    "lon2 = radians( 127.5107432)"
   ]
  },
  {
   "cell_type": "code",
   "execution_count": 3,
   "metadata": {},
   "outputs": [
    {
     "name": "stdout",
     "output_type": "stream",
     "text": [
      "0.6611686501507563 0.6602766909098784 2.226121682677817 2.22548230050497\n"
>>>>>>> 84d7c3c11df7bda5da5b33c263414b95519a8aea
     ]
    }
   ],
   "source": [
<<<<<<< HEAD
    "cnt = 1\n",
    "wo = 'abcde'\n",
    "\n",
    "with open(r'c:\\temp\\aaa.txt', 'a') as f:\n",
    "          f.write('this is test   %d   %s \\n'   %cnt,   wo )"
=======
    "print(lat1,lat2,lon1,lon2)"
>>>>>>> 84d7c3c11df7bda5da5b33c263414b95519a8aea
   ]
  },
  {
   "cell_type": "code",
   "execution_count": null,
   "metadata": {},
   "outputs": [],
<<<<<<< HEAD
   "source": []
  },
  {
   "cell_type": "code",
   "execution_count": null,
   "metadata": {},
   "outputs": [],
   "source": []
  },
  {
   "cell_type": "code",
   "execution_count": null,
   "metadata": {},
   "outputs": [],
   "source": []
  },
  {
   "cell_type": "code",
   "execution_count": null,
   "metadata": {},
   "outputs": [],
   "source": []
  },
  {
   "cell_type": "code",
   "execution_count": null,
   "metadata": {},
   "outputs": [],
   "source": []
=======
   "source": [
    "# 엑셀 계산 6540\n",
    "\n",
    "dlon = lon2 - lon1 \n",
    "dlat = lat2 - lat1\n",
    "a = sin(dlat / 2)**2 + cos(lat1) * cos(lat2) * \\\n",
    "   sin(dlon / 2)**2 \n",
    "c = 2 * atan2(sqrt(a), sqrt(1 - a)) \n",
    "distance = R * c \n",
    "print(\"Result:\", distance) \n",
    "print(\"Should be:\", 278.546, \"km\")"
   ]
>>>>>>> 84d7c3c11df7bda5da5b33c263414b95519a8aea
  }
 ],
 "metadata": {
  "kernelspec": {
   "display_name": "Python 3",
   "language": "python",
   "name": "python3"
  },
  "language_info": {
   "codemirror_mode": {
    "name": "ipython",
    "version": 3
   },
   "file_extension": ".py",
   "mimetype": "text/x-python",
   "name": "python",
   "nbconvert_exporter": "python",
   "pygments_lexer": "ipython3",
   "version": "3.6.6"
  }
 },
 "nbformat": 4,
 "nbformat_minor": 2
}
