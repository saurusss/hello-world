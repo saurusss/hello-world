{
 "cells": [
  {
   "cell_type": "code",
   "execution_count": 1,
   "metadata": {},
   "outputs": [],
   "source": [
    "from math import sin, cos, sqrt, atan2, radians \n",
    "# approximate radius of earth in km\n",
    "R = 6373.0 \n",
    "# lat1 = radians(52.2296756) \n",
    "# lon1 = radians(21.0122287) \n",
    "# lat2 = radians(52.406374) \n",
    "# lon2 = radians(16.9251681) \n",
    "lat1 = radians(37.8821732\t)\n",
    "lon1 = radians( 127.5473771)\n",
    "lat2 = radians( 37.8310677\t)\n",
    "lon2 = radians( 127.5107432)"
   ]
  },
  {
   "cell_type": "code",
   "execution_count": 3,
   "metadata": {},
   "outputs": [
    {
     "name": "stdout",
     "output_type": "stream",
     "text": [
      "0.6611686501507563 0.6602766909098784 2.226121682677817 2.22548230050497\n"
     ]
    }
   ],
   "source": [
    "print(lat1,lat2,lon1,lon2)"
   ]
  },
  {
   "cell_type": "code",
   "execution_count": null,
   "metadata": {},
   "outputs": [],
   "source": [
    "# 엑셀 계산 6540\n",
    "\n",
    "dlon = lon2 - lon1 \n",
    "dlat = lat2 - lat1\n",
    "a = sin(dlat / 2)**2 + cos(lat1) * cos(lat2) * \\\n",
    "   sin(dlon / 2)**2 \n",
    "c = 2 * atan2(sqrt(a), sqrt(1 - a)) \n",
    "distance = R * c \n",
    "print(\"Result:\", distance) \n",
    "print(\"Should be:\", 278.546, \"km\")"
   ]
  }
 ],
 "metadata": {
  "kernelspec": {
   "display_name": "Python 3",
   "language": "python",
   "name": "python3"
  },
  "language_info": {
   "codemirror_mode": {
    "name": "ipython",
    "version": 3
   },
   "file_extension": ".py",
   "mimetype": "text/x-python",
   "name": "python",
   "nbconvert_exporter": "python",
   "pygments_lexer": "ipython3",
   "version": "3.6.6"
  }
 },
 "nbformat": 4,
 "nbformat_minor": 2
}
