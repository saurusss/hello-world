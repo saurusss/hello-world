{
 "cells": [
  {
   "cell_type": "code",
   "execution_count": 7,
   "metadata": {},
   "outputs": [],
   "source": [
    "import pandas as pd\n",
    "import numpy as np\n",
    "import sqlite3\n",
    "import math"
   ]
  },
  {
   "cell_type": "code",
   "execution_count": 9,
   "metadata": {},
   "outputs": [],
   "source": [
    "conn = sqlite3.connect(r'C:\\Temp\\loc_post.db')\n",
    "cursor = conn.cursor()"
   ]
  },
  {
   "cell_type": "code",
   "execution_count": 10,
   "metadata": {},
   "outputs": [],
   "source": [
    "df = pd.read_sql_query(\"select * from position where nearestBranch is null\", conn)\n",
    "df.columns\n",
    "conn.close()"
   ]
  },
  {
   "cell_type": "code",
   "execution_count": null,
   "metadata": {},
   "outputs": [],
   "source": [
    "del df['index']\n",
    "# df\n",
    "\n",
    "df = df.set_index('officeName')\n",
    "\n",
    "# df.columns\n",
    "df\n",
    "\n",
    "df_c = pd.DataFrame(columns=['officeName','dist'])\n",
    "df_c = df_c.set_index('officeName')\n",
    "\n",
    "df.columns\n",
    "df_c.columns\n",
    "df.index\n",
    "df_c.index"
   ]
  },
  {
   "cell_type": "code",
   "execution_count": 11,
   "metadata": {},
   "outputs": [
    {
     "data": {
      "text/plain": [
       "str"
      ]
     },
     "execution_count": 11,
     "metadata": {},
     "output_type": "execute_result"
    }
   ],
   "source": [
    "wofficeName = df.index[0]\n",
    "wofficeName\n",
    "type(wofficeName)"
   ]
  },
  {
   "cell_type": "code",
   "execution_count": 12,
   "metadata": {},
   "outputs": [
    {
     "data": {
      "text/html": [
       "<div>\n",
       "<style scoped>\n",
       "    .dataframe tbody tr th:only-of-type {\n",
       "        vertical-align: middle;\n",
       "    }\n",
       "\n",
       "    .dataframe tbody tr th {\n",
       "        vertical-align: top;\n",
       "    }\n",
       "\n",
       "    .dataframe thead th {\n",
       "        text-align: right;\n",
       "    }\n",
       "</style>\n",
       "<table border=\"1\" class=\"dataframe\">\n",
       "  <thead>\n",
       "    <tr style=\"text-align: right;\">\n",
       "      <th></th>\n",
       "      <th>address</th>\n",
       "      <th>latitude</th>\n",
       "      <th>longitude</th>\n",
       "      <th>nearestBranch</th>\n",
       "      <th>nrstBrDist</th>\n",
       "    </tr>\n",
       "    <tr>\n",
       "      <th>officeName</th>\n",
       "      <th></th>\n",
       "      <th></th>\n",
       "      <th></th>\n",
       "      <th></th>\n",
       "      <th></th>\n",
       "    </tr>\n",
       "  </thead>\n",
       "  <tbody>\n",
       "    <tr>\n",
       "      <th>가남우체국</th>\n",
       "      <td>경기 여주시 가남읍 태평로 29</td>\n",
       "      <td>37.201739</td>\n",
       "      <td>127.545135</td>\n",
       "      <td>None</td>\n",
       "      <td>None</td>\n",
       "    </tr>\n",
       "  </tbody>\n",
       "</table>\n",
       "</div>"
      ],
      "text/plain": [
       "                      address   latitude   longitude nearestBranch nrstBrDist\n",
       "officeName                                                                   \n",
       "가남우체국       경기 여주시 가남읍 태평로 29  37.201739  127.545135          None       None"
      ]
     },
     "execution_count": 12,
     "metadata": {},
     "output_type": "execute_result"
    }
   ],
   "source": [
    "df.loc[wofficeName : wofficeName]"
   ]
  },
  {
   "cell_type": "code",
   "execution_count": 13,
   "metadata": {},
   "outputs": [
    {
     "name": "stdout",
     "output_type": "stream",
     "text": [
      "가남우체국 37.2017393 127.5451354\n"
     ]
    },
    {
     "data": {
      "text/plain": [
       "numpy.float64"
      ]
     },
     "execution_count": 13,
     "metadata": {},
     "output_type": "execute_result"
    }
   ],
   "source": [
    "wlat = df.loc[wofficeName]['latitude']\n",
    "wlon = df.loc[wofficeName]['longitude']\n",
    "print(wofficeName, wlat, wlon)\n",
    "type(wlat)\n",
    "type(wlon)"
   ]
  },
  {
   "cell_type": "code",
   "execution_count": 14,
   "metadata": {},
   "outputs": [],
   "source": [
    "df = df.drop(wofficeName)"
   ]
  },
  {
   "cell_type": "code",
   "execution_count": 15,
   "metadata": {},
   "outputs": [
    {
     "data": {
      "text/html": [
       "<div>\n",
       "<style scoped>\n",
       "    .dataframe tbody tr th:only-of-type {\n",
       "        vertical-align: middle;\n",
       "    }\n",
       "\n",
       "    .dataframe tbody tr th {\n",
       "        vertical-align: top;\n",
       "    }\n",
       "\n",
       "    .dataframe thead th {\n",
       "        text-align: right;\n",
       "    }\n",
       "</style>\n",
       "<table border=\"1\" class=\"dataframe\">\n",
       "  <thead>\n",
       "    <tr style=\"text-align: right;\">\n",
       "      <th></th>\n",
       "      <th>address</th>\n",
       "      <th>latitude</th>\n",
       "      <th>longitude</th>\n",
       "      <th>nearestBranch</th>\n",
       "      <th>nrstBrDist</th>\n",
       "    </tr>\n",
       "    <tr>\n",
       "      <th>officeName</th>\n",
       "      <th></th>\n",
       "      <th></th>\n",
       "      <th></th>\n",
       "      <th></th>\n",
       "      <th></th>\n",
       "    </tr>\n",
       "  </thead>\n",
       "  <tbody>\n",
       "    <tr>\n",
       "      <th>가정행정법원출장소</th>\n",
       "      <td>서울특별시 서초구 강남대로 193 (양재동)</td>\n",
       "      <td>37.473862</td>\n",
       "      <td>127.030459</td>\n",
       "      <td>None</td>\n",
       "      <td>None</td>\n",
       "    </tr>\n",
       "    <tr>\n",
       "      <th>가평북면우체국</th>\n",
       "      <td>경기 가평군 북면 가화로 967 (북면우체국)</td>\n",
       "      <td>37.882173</td>\n",
       "      <td>127.547377</td>\n",
       "      <td>None</td>\n",
       "      <td>None</td>\n",
       "    </tr>\n",
       "    <tr>\n",
       "      <th>가평우체국</th>\n",
       "      <td>경기 가평군 가평읍 보납로 2 (가평우체국)</td>\n",
       "      <td>37.831068</td>\n",
       "      <td>127.510743</td>\n",
       "      <td>None</td>\n",
       "      <td>None</td>\n",
       "    </tr>\n",
       "  </tbody>\n",
       "</table>\n",
       "</div>"
      ],
      "text/plain": [
       "                              address   latitude   longitude nearestBranch  \\\n",
       "officeName                                                                   \n",
       "가정행정법원출장소    서울특별시 서초구 강남대로 193 (양재동)  37.473862  127.030459          None   \n",
       "가평북면우체국     경기 가평군 북면 가화로 967 (북면우체국)  37.882173  127.547377          None   \n",
       "가평우체국        경기 가평군 가평읍 보납로 2 (가평우체국)  37.831068  127.510743          None   \n",
       "\n",
       "           nrstBrDist  \n",
       "officeName             \n",
       "가정행정법원출장소        None  \n",
       "가평북면우체국          None  \n",
       "가평우체국            None  "
      ]
     },
     "execution_count": 15,
     "metadata": {},
     "output_type": "execute_result"
    }
   ],
   "source": [
    "df.head(3)"
   ]
  },
  {
   "cell_type": "code",
   "execution_count": 16,
   "metadata": {},
   "outputs": [
    {
     "name": "stdout",
     "output_type": "stream",
     "text": [
      "가남우체국\n"
     ]
    }
   ],
   "source": [
    "print(wofficeName)"
   ]
  },
  {
   "cell_type": "code",
   "execution_count": 17,
   "metadata": {},
   "outputs": [],
   "source": [
    "baseLat = 110979.309\n",
    "baseLon = 88907.949"
   ]
  },
  {
   "cell_type": "code",
   "execution_count": 305,
   "metadata": {},
   "outputs": [
    {
     "data": {
      "text/html": [
       "<div>\n",
       "<style scoped>\n",
       "    .dataframe tbody tr th:only-of-type {\n",
       "        vertical-align: middle;\n",
       "    }\n",
       "\n",
       "    .dataframe tbody tr th {\n",
       "        vertical-align: top;\n",
       "    }\n",
       "\n",
       "    .dataframe thead th {\n",
       "        text-align: right;\n",
       "    }\n",
       "</style>\n",
       "<table border=\"1\" class=\"dataframe\">\n",
       "  <thead>\n",
       "    <tr style=\"text-align: right;\">\n",
       "      <th></th>\n",
       "      <th>dist</th>\n",
       "    </tr>\n",
       "    <tr>\n",
       "      <th>officeName</th>\n",
       "      <th></th>\n",
       "    </tr>\n",
       "  </thead>\n",
       "  <tbody>\n",
       "  </tbody>\n",
       "</table>\n",
       "</div>"
      ],
      "text/plain": [
       "Empty DataFrame\n",
       "Columns: [dist]\n",
       "Index: []"
      ]
     },
     "execution_count": 305,
     "metadata": {},
     "output_type": "execute_result"
    }
   ],
   "source": [
    "df_c"
   ]
  },
  {
   "cell_type": "code",
   "execution_count": 18,
   "metadata": {},
   "outputs": [],
   "source": [
    "for i in df.index:\n",
    "#     print(i)\n",
    "#     print(df.loc[i]['latitude'])\n",
    "        df_c.loc[i] =  math.sqrt(  (abs(df.loc[i]['latitude'] - wlat)*baseLat)**2 + (abs(df.loc[i]['longitude'] - wlon)*baseLon)**2  )"
   ]
  },
  {
   "cell_type": "code",
   "execution_count": 34,
   "metadata": {
    "scrolled": true
   },
   "outputs": [],
   "source": [
    "#df_c"
   ]
  },
  {
   "cell_type": "code",
   "execution_count": 336,
   "metadata": {},
   "outputs": [],
   "source": [
    "# df_c['dist']"
   ]
  },
  {
   "cell_type": "code",
   "execution_count": 20,
   "metadata": {},
   "outputs": [
    {
     "name": "stdout",
     "output_type": "stream",
     "text": [
      "[523]\n",
      "[array([523], dtype=int64)]\n"
     ]
    }
   ],
   "source": [
    "minDist = df_c.min()\n",
    "select_indices = list(np.where(df_c['dist'] == minDist[0]))\n",
    "print(select_indices[0])\n",
    "print(select_indices)\n",
    "minDistOffice = df_c.index[select_indices[0]]"
   ]
  },
  {
   "cell_type": "code",
   "execution_count": 21,
   "metadata": {},
   "outputs": [
    {
     "name": "stdout",
     "output_type": "stream",
     "text": [
      "6808.787204308148\n"
     ]
    }
   ],
   "source": [
    "print(minDist[0])"
   ]
  },
  {
   "cell_type": "code",
   "execution_count": 22,
   "metadata": {},
   "outputs": [
    {
     "name": "stdout",
     "output_type": "stream",
     "text": [
      "가남우체국\n"
     ]
    }
   ],
   "source": [
    "print(wofficeName)"
   ]
  },
  {
   "cell_type": "code",
   "execution_count": 23,
   "metadata": {},
   "outputs": [
    {
     "name": "stdout",
     "output_type": "stream",
     "text": [
      "이천모가(취)\n"
     ]
    }
   ],
   "source": [
    "print(minDistOffice[0])"
   ]
  },
  {
   "cell_type": "code",
   "execution_count": 25,
   "metadata": {},
   "outputs": [
    {
     "data": {
      "text/html": [
       "<div>\n",
       "<style scoped>\n",
       "    .dataframe tbody tr th:only-of-type {\n",
       "        vertical-align: middle;\n",
       "    }\n",
       "\n",
       "    .dataframe tbody tr th {\n",
       "        vertical-align: top;\n",
       "    }\n",
       "\n",
       "    .dataframe thead th {\n",
       "        text-align: right;\n",
       "    }\n",
       "</style>\n",
       "<table border=\"1\" class=\"dataframe\">\n",
       "  <thead>\n",
       "    <tr style=\"text-align: right;\">\n",
       "      <th></th>\n",
       "      <th>address</th>\n",
       "      <th>latitude</th>\n",
       "      <th>longitude</th>\n",
       "      <th>nearestBranch</th>\n",
       "      <th>nrstBrDist</th>\n",
       "    </tr>\n",
       "    <tr>\n",
       "      <th>officeName</th>\n",
       "      <th></th>\n",
       "      <th></th>\n",
       "      <th></th>\n",
       "      <th></th>\n",
       "      <th></th>\n",
       "    </tr>\n",
       "  </thead>\n",
       "  <tbody>\n",
       "    <tr>\n",
       "      <th>이천모가(취)</th>\n",
       "      <td>경기 이천시 모가면 진상미로 1272-5</td>\n",
       "      <td>37.169686</td>\n",
       "      <td>127.479836</td>\n",
       "      <td>None</td>\n",
       "      <td>None</td>\n",
       "    </tr>\n",
       "  </tbody>\n",
       "</table>\n",
       "</div>"
      ],
      "text/plain": [
       "                           address   latitude   longitude nearestBranch  \\\n",
       "officeName                                                                \n",
       "이천모가(취)     경기 이천시 모가면 진상미로 1272-5  37.169686  127.479836          None   \n",
       "\n",
       "           nrstBrDist  \n",
       "officeName             \n",
       "이천모가(취)          None  "
      ]
     },
     "execution_count": 25,
     "metadata": {},
     "output_type": "execute_result"
    }
   ],
   "source": [
    "df[minDistOffice[0] : minDistOffice[0]]"
   ]
  },
  {
   "cell_type": "code",
   "execution_count": 27,
   "metadata": {},
   "outputs": [
    {
     "ename": "NameError",
     "evalue": "name 'woffinceName' is not defined",
     "output_type": "error",
     "traceback": [
      "\u001b[1;31m---------------------------------------------------------------------------\u001b[0m",
      "\u001b[1;31mNameError\u001b[0m                                 Traceback (most recent call last)",
      "\u001b[1;32m<ipython-input-27-adef5556f154>\u001b[0m in \u001b[0;36m<module>\u001b[1;34m()\u001b[0m\n\u001b[1;32m----> 1\u001b[1;33m \u001b[0mdf\u001b[0m\u001b[1;33m[\u001b[0m\u001b[0mwoffinceName\u001b[0m \u001b[1;33m:\u001b[0m \u001b[0mwofficeName\u001b[0m\u001b[1;33m]\u001b[0m\u001b[1;33m\u001b[0m\u001b[0m\n\u001b[0m",
      "\u001b[1;31mNameError\u001b[0m: name 'woffinceName' is not defined"
     ]
    }
   ],
   "source": [
    "df[woffinceName : wofficeName] # 삭제 되어 오류 발생"
   ]
  },
  {
   "cell_type": "code",
   "execution_count": 28,
   "metadata": {},
   "outputs": [],
   "source": [
    "conn = sqlite3.connect(r'C:\\Temp\\loc_post.db')\n",
    "cursor = conn.cursor()"
   ]
  },
  {
   "cell_type": "code",
   "execution_count": 29,
   "metadata": {},
   "outputs": [
    {
     "name": "stdout",
     "output_type": "stream",
     "text": [
      "이천모가(취) 6808.787204308148 가남우체국\n"
     ]
    }
   ],
   "source": [
    "print (minDistOffice[0], minDist[0], wofficeName)"
   ]
  },
  {
   "cell_type": "code",
   "execution_count": 31,
   "metadata": {
    "scrolled": true
   },
   "outputs": [
    {
     "data": {
      "text/plain": [
       "<sqlite3.Cursor at 0x20c3481fdc0>"
      ]
     },
     "execution_count": 31,
     "metadata": {},
     "output_type": "execute_result"
    }
   ],
   "source": [
    "# sql_update = \"UPDATE position SET nearestBranch = '이천모가(취)' ,nrstBrDist = 999 where officeName = '가남우체국'\"\n",
    "sql_update = \"UPDATE position SET nearestBranch = ?, nrstBrDist = ? where officeName = ?\"\n",
    "cursor.execute(sql_update,(minDistOffice[0], minDist[0], wofficeName))"
   ]
  },
  {
   "cell_type": "code",
   "execution_count": 32,
   "metadata": {
    "scrolled": true
   },
   "outputs": [
    {
     "name": "stdout",
     "output_type": "stream",
     "text": [
      "[(0, '가남우체국', '경기 여주시 가남읍 태평로 29', 37.2017393, 127.5451354, '이천모가(취)', 6808.787204308148), (524, '이천모가(취)', '경기 이천시 모가면 진상미로 1272-5', 37.1696861, 127.4798358, None, None)]\n"
     ]
    }
   ],
   "source": [
    "sql = \"select * from position where officeName = '이천모가(취)' or officeName = '가남우체국'\"\n",
    "cursor.execute(sql)\n",
    "print(cursor.fetchall())\n"
   ]
  },
  {
   "cell_type": "code",
   "execution_count": 33,
   "metadata": {},
   "outputs": [],
   "source": [
    "conn.commit()\n",
    "conn.close()"
   ]
  },
  {
   "cell_type": "code",
   "execution_count": 200,
   "metadata": {},
   "outputs": [
    {
     "data": {
      "text/plain": [
       "pandas.core.series.Series"
      ]
     },
     "execution_count": 200,
     "metadata": {},
     "output_type": "execute_result"
    }
   ],
   "source": []
  }
 ],
 "metadata": {
  "kernelspec": {
   "display_name": "Python 3",
   "language": "python",
   "name": "python3"
  },
  "language_info": {
   "codemirror_mode": {
    "name": "ipython",
    "version": 3
   },
   "file_extension": ".py",
   "mimetype": "text/x-python",
   "name": "python",
   "nbconvert_exporter": "python",
   "pygments_lexer": "ipython3",
   "version": "3.6.6"
  }
 },
 "nbformat": 4,
 "nbformat_minor": 2
}
