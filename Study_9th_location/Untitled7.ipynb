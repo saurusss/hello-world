{
 "cells": [
  {
   "cell_type": "code",
   "execution_count": 22,
   "metadata": {},
   "outputs": [
    {
     "name": "stdout",
     "output_type": "stream",
     "text": [
      "1 123456.98546\n",
      "2 123456.99\n",
      "3 123457\n",
      "4 123,456.98546\n",
      "5 123,456.99\n"
     ]
    }
   ],
   "source": [
    "amt = 123456.98546\n",
    "amt\n",
    "print(1, amt)\n",
    "print(2, round(amt,2))\n",
    "print(3, round(amt))\n",
    "print(4, format( amt,','))\n",
    "print(5, format(round(amt,2),','))"
   ]
  }
 ],
 "metadata": {
  "kernelspec": {
   "display_name": "Python 3",
   "language": "python",
   "name": "python3"
  },
  "language_info": {
   "codemirror_mode": {
    "name": "ipython",
    "version": 3
   },
   "file_extension": ".py",
   "mimetype": "text/x-python",
   "name": "python",
   "nbconvert_exporter": "python",
   "pygments_lexer": "ipython3",
   "version": "3.6.6"
  }
 },
 "nbformat": 4,
 "nbformat_minor": 2
}
