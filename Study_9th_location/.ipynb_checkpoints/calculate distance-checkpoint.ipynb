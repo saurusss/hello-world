{
 "cells": [
  {
   "cell_type": "code",
   "execution_count": 7,
   "metadata": {},
   "outputs": [],
   "source": [
    "import pandas as pd\n",
    "import numpy as np\n",
    "import sqlite3\n",
    "import math"
   ]
  },
  {
   "cell_type": "code",
   "execution_count": 9,
   "metadata": {},
   "outputs": [],
   "source": [
    "conn = sqlite3.connect(r'C:\\Temp\\loc_post.db')\n",
    "cursor = conn.cursor()"
   ]
  },
  {
   "cell_type": "code",
   "execution_count": 10,
   "metadata": {},
   "outputs": [],
   "source": [
    "df = pd.read_sql_query(\"select * from position where nearestBranch is null\", conn)\n",
    "df.columns\n",
    "conn.close()"
   ]
  },
  {
   "cell_type": "code",
   "execution_count": 11,
   "metadata": {},
   "outputs": [
    {
     "data": {
      "text/plain": [
       "str"
      ]
     },
     "execution_count": 11,
     "metadata": {},
     "output_type": "execute_result"
    }
   ],
   "source": [
    "del df['index']\n",
    "# df\n",
    "\n",
    "df = df.set_index('officeName')\n",
    "\n",
    "# df.columns\n",
    "df\n",
    "\n",
    "df_c = pd.DataFrame(columns=['officeName','dist'])\n",
    "df_c = df_c.set_index('officeName')\n",
    "\n",
    "df.columns\n",
    "\n",
    "df_c.columns\n",
    "\n",
    "df.index\n",
    "\n",
    "df_c.index\n",
    "\n",
    "wofficeName = df.index[0]\n",
    "\n",
    "wofficeName\n",
    "\n",
    "type(wofficeName)"
   ]
  },
  {
   "cell_type": "code",
   "execution_count": 12,
   "metadata": {},
   "outputs": [
    {
     "data": {
      "text/html": [
       "<div>\n",
       "<style scoped>\n",
       "    .dataframe tbody tr th:only-of-type {\n",
       "        vertical-align: middle;\n",
       "    }\n",
       "\n",
       "    .dataframe tbody tr th {\n",
       "        vertical-align: top;\n",
       "    }\n",
       "\n",
       "    .dataframe thead th {\n",
       "        text-align: right;\n",
       "    }\n",
       "</style>\n",
       "<table border=\"1\" class=\"dataframe\">\n",
       "  <thead>\n",
       "    <tr style=\"text-align: right;\">\n",
       "      <th></th>\n",
       "      <th>address</th>\n",
       "      <th>latitude</th>\n",
       "      <th>longitude</th>\n",
       "      <th>nearestBranch</th>\n",
       "      <th>nrstBrDist</th>\n",
       "    </tr>\n",
       "    <tr>\n",
       "      <th>officeName</th>\n",
       "      <th></th>\n",
       "      <th></th>\n",
       "      <th></th>\n",
       "      <th></th>\n",
       "      <th></th>\n",
       "    </tr>\n",
       "  </thead>\n",
       "  <tbody>\n",
       "    <tr>\n",
       "      <th>가남우체국</th>\n",
       "      <td>경기 여주시 가남읍 태평로 29</td>\n",
       "      <td>37.201739</td>\n",
       "      <td>127.545135</td>\n",
       "      <td>None</td>\n",
       "      <td>None</td>\n",
       "    </tr>\n",
       "  </tbody>\n",
       "</table>\n",
       "</div>"
      ],
      "text/plain": [
       "                      address   latitude   longitude nearestBranch nrstBrDist\n",
       "officeName                                                                   \n",
       "가남우체국       경기 여주시 가남읍 태평로 29  37.201739  127.545135          None       None"
      ]
     },
     "execution_count": 12,
     "metadata": {},
     "output_type": "execute_result"
    }
   ],
   "source": [
    "df.loc[wofficeName : wofficeName]"
   ]
  },
  {
   "cell_type": "code",
   "execution_count": 13,
   "metadata": {},
   "outputs": [
    {
     "name": "stdout",
     "output_type": "stream",
     "text": [
      "가남우체국 37.2017393 127.5451354\n"
     ]
    },
    {
     "data": {
      "text/plain": [
       "numpy.float64"
      ]
     },
     "execution_count": 13,
     "metadata": {},
     "output_type": "execute_result"
    }
   ],
   "source": [
    "wlat = df.loc[wofficeName]['latitude']\n",
    "wlon = df.loc[wofficeName]['longitude']\n",
    "print(wofficeName, wlat, wlon)\n",
    "type(wlat)\n",
    "type(wlon)"
   ]
  },
  {
   "cell_type": "code",
   "execution_count": 14,
   "metadata": {},
   "outputs": [],
   "source": [
    "df = df.drop(wofficeName)"
   ]
  },
  {
   "cell_type": "code",
   "execution_count": 15,
   "metadata": {},
   "outputs": [
    {
     "data": {
      "text/html": [
       "<div>\n",
       "<style scoped>\n",
       "    .dataframe tbody tr th:only-of-type {\n",
       "        vertical-align: middle;\n",
       "    }\n",
       "\n",
       "    .dataframe tbody tr th {\n",
       "        vertical-align: top;\n",
       "    }\n",
       "\n",
       "    .dataframe thead th {\n",
       "        text-align: right;\n",
       "    }\n",
       "</style>\n",
       "<table border=\"1\" class=\"dataframe\">\n",
       "  <thead>\n",
       "    <tr style=\"text-align: right;\">\n",
       "      <th></th>\n",
       "      <th>address</th>\n",
       "      <th>latitude</th>\n",
       "      <th>longitude</th>\n",
       "      <th>nearestBranch</th>\n",
       "      <th>nrstBrDist</th>\n",
       "    </tr>\n",
       "    <tr>\n",
       "      <th>officeName</th>\n",
       "      <th></th>\n",
       "      <th></th>\n",
       "      <th></th>\n",
       "      <th></th>\n",
       "      <th></th>\n",
       "    </tr>\n",
       "  </thead>\n",
       "  <tbody>\n",
       "    <tr>\n",
       "      <th>가정행정법원출장소</th>\n",
       "      <td>서울특별시 서초구 강남대로 193 (양재동)</td>\n",
       "      <td>37.473862</td>\n",
       "      <td>127.030459</td>\n",
       "      <td>None</td>\n",
       "      <td>None</td>\n",
       "    </tr>\n",
       "    <tr>\n",
       "      <th>가평북면우체국</th>\n",
       "      <td>경기 가평군 북면 가화로 967 (북면우체국)</td>\n",
       "      <td>37.882173</td>\n",
       "      <td>127.547377</td>\n",
       "      <td>None</td>\n",
       "      <td>None</td>\n",
       "    </tr>\n",
       "    <tr>\n",
       "      <th>가평우체국</th>\n",
       "      <td>경기 가평군 가평읍 보납로 2 (가평우체국)</td>\n",
       "      <td>37.831068</td>\n",
       "      <td>127.510743</td>\n",
       "      <td>None</td>\n",
       "      <td>None</td>\n",
       "    </tr>\n",
       "  </tbody>\n",
       "</table>\n",
       "</div>"
      ],
      "text/plain": [
       "                              address   latitude   longitude nearestBranch  \\\n",
       "officeName                                                                   \n",
       "가정행정법원출장소    서울특별시 서초구 강남대로 193 (양재동)  37.473862  127.030459          None   \n",
       "가평북면우체국     경기 가평군 북면 가화로 967 (북면우체국)  37.882173  127.547377          None   \n",
       "가평우체국        경기 가평군 가평읍 보납로 2 (가평우체국)  37.831068  127.510743          None   \n",
       "\n",
       "           nrstBrDist  \n",
       "officeName             \n",
       "가정행정법원출장소        None  \n",
       "가평북면우체국          None  \n",
       "가평우체국            None  "
      ]
     },
     "execution_count": 15,
     "metadata": {},
     "output_type": "execute_result"
    }
   ],
   "source": [
    "df.head(3)"
   ]
  },
  {
   "cell_type": "code",
   "execution_count": 16,
   "metadata": {},
   "outputs": [
    {
     "name": "stdout",
     "output_type": "stream",
     "text": [
      "가남우체국\n"
     ]
    }
   ],
   "source": [
    "print(wofficeName)"
   ]
  },
  {
   "cell_type": "code",
   "execution_count": 17,
   "metadata": {},
   "outputs": [],
   "source": [
    "baseLat = 110979.309\n",
    "baseLon = 88907.949"
   ]
  },
  {
   "cell_type": "code",
   "execution_count": 305,
   "metadata": {},
   "outputs": [
    {
     "data": {
      "text/html": [
       "<div>\n",
       "<style scoped>\n",
       "    .dataframe tbody tr th:only-of-type {\n",
       "        vertical-align: middle;\n",
       "    }\n",
       "\n",
       "    .dataframe tbody tr th {\n",
       "        vertical-align: top;\n",
       "    }\n",
       "\n",
       "    .dataframe thead th {\n",
       "        text-align: right;\n",
       "    }\n",
       "</style>\n",
       "<table border=\"1\" class=\"dataframe\">\n",
       "  <thead>\n",
       "    <tr style=\"text-align: right;\">\n",
       "      <th></th>\n",
       "      <th>dist</th>\n",
       "    </tr>\n",
       "    <tr>\n",
       "      <th>officeName</th>\n",
       "      <th></th>\n",
       "    </tr>\n",
       "  </thead>\n",
       "  <tbody>\n",
       "  </tbody>\n",
       "</table>\n",
       "</div>"
      ],
      "text/plain": [
       "Empty DataFrame\n",
       "Columns: [dist]\n",
       "Index: []"
      ]
     },
     "execution_count": 305,
     "metadata": {},
     "output_type": "execute_result"
    }
   ],
   "source": [
    "df_c"
   ]
  },
  {
   "cell_type": "code",
   "execution_count": 18,
   "metadata": {},
   "outputs": [],
   "source": [
    "for i in df.index:\n",
    "#     print(i)\n",
    "#     print(df.loc[i]['latitude'])\n",
    "        df_c.loc[i] =  math.sqrt(  (abs(df.loc[i]['latitude'] - wlat)*baseLat)**2 + (abs(df.loc[i]['longitude'] - wlon)*baseLon)**2  )"
   ]
  },
  {
   "cell_type": "code",
   "execution_count": 19,
   "metadata": {
    "scrolled": true
   },
   "outputs": [
    {
     "data": {
      "text/html": [
       "<div>\n",
       "<style scoped>\n",
       "    .dataframe tbody tr th:only-of-type {\n",
       "        vertical-align: middle;\n",
       "    }\n",
       "\n",
       "    .dataframe tbody tr th {\n",
       "        vertical-align: top;\n",
       "    }\n",
       "\n",
       "    .dataframe thead th {\n",
       "        text-align: right;\n",
       "    }\n",
       "</style>\n",
       "<table border=\"1\" class=\"dataframe\">\n",
       "  <thead>\n",
       "    <tr style=\"text-align: right;\">\n",
       "      <th></th>\n",
       "      <th>dist</th>\n",
       "    </tr>\n",
       "    <tr>\n",
       "      <th>officeName</th>\n",
       "      <th></th>\n",
       "    </tr>\n",
       "  </thead>\n",
       "  <tbody>\n",
       "    <tr>\n",
       "      <th>가정행정법원출장소</th>\n",
       "      <td>54826.168158</td>\n",
       "    </tr>\n",
       "    <tr>\n",
       "      <th>가평북면우체국</th>\n",
       "      <td>75514.347055</td>\n",
       "    </tr>\n",
       "    <tr>\n",
       "      <th>가평우체국</th>\n",
       "      <td>69909.333690</td>\n",
       "    </tr>\n",
       "    <tr>\n",
       "      <th>가평조종우체국</th>\n",
       "      <td>70540.296960</td>\n",
       "    </tr>\n",
       "    <tr>\n",
       "      <th>강상우체국</th>\n",
       "      <td>31613.064556</td>\n",
       "    </tr>\n",
       "    <tr>\n",
       "      <th>강천우체국</th>\n",
       "      <td>17020.249217</td>\n",
       "    </tr>\n",
       "    <tr>\n",
       "      <th>강하우체국</th>\n",
       "      <td>34792.240338</td>\n",
       "    </tr>\n",
       "    <tr>\n",
       "      <th>강화갑곳리(취)</th>\n",
       "      <td>110985.995579</td>\n",
       "    </tr>\n",
       "    <tr>\n",
       "      <th>강화우체국</th>\n",
       "      <td>111743.863264</td>\n",
       "    </tr>\n",
       "    <tr>\n",
       "      <th>개군우체국</th>\n",
       "      <td>24884.125479</td>\n",
       "    </tr>\n",
       "    <tr>\n",
       "      <th>검단우체국</th>\n",
       "      <td>88604.108218</td>\n",
       "    </tr>\n",
       "    <tr>\n",
       "      <th>경기광주우체국</th>\n",
       "      <td>36102.875468</td>\n",
       "    </tr>\n",
       "    <tr>\n",
       "      <th>경기광주태전(취)</th>\n",
       "      <td>35404.867584</td>\n",
       "    </tr>\n",
       "    <tr>\n",
       "      <th>경기남양우체국</th>\n",
       "      <td>64890.647640</td>\n",
       "    </tr>\n",
       "    <tr>\n",
       "      <th>경기옥천우체국</th>\n",
       "      <td>35979.772690</td>\n",
       "    </tr>\n",
       "    <tr>\n",
       "      <th>경기용문우체국</th>\n",
       "      <td>31348.876870</td>\n",
       "    </tr>\n",
       "    <tr>\n",
       "      <th>경기조안우체국</th>\n",
       "      <td>45045.501592</td>\n",
       "    </tr>\n",
       "    <tr>\n",
       "      <th>경기파주우체국</th>\n",
       "      <td>95372.340917</td>\n",
       "    </tr>\n",
       "    <tr>\n",
       "      <th>경인지방우정청</th>\n",
       "      <td>51424.422977</td>\n",
       "    </tr>\n",
       "    <tr>\n",
       "      <th>경찰청우체국</th>\n",
       "      <td>65146.017294</td>\n",
       "    </tr>\n",
       "    <tr>\n",
       "      <th>고양가좌동(취)</th>\n",
       "      <td>90969.890556</td>\n",
       "    </tr>\n",
       "    <tr>\n",
       "      <th>고양대화동우체국</th>\n",
       "      <td>88208.843948</td>\n",
       "    </tr>\n",
       "    <tr>\n",
       "      <th>고양덕양우체국</th>\n",
       "      <td>79479.774886</td>\n",
       "    </tr>\n",
       "    <tr>\n",
       "      <th>고양마두1동(취)</th>\n",
       "      <td>84550.367481</td>\n",
       "    </tr>\n",
       "    <tr>\n",
       "      <th>고양백석동우체국</th>\n",
       "      <td>83839.086042</td>\n",
       "    </tr>\n",
       "    <tr>\n",
       "      <th>고양본동우체국</th>\n",
       "      <td>79861.714565</td>\n",
       "    </tr>\n",
       "    <tr>\n",
       "      <th>고양삼송동(취)</th>\n",
       "      <td>76439.303260</td>\n",
       "    </tr>\n",
       "    <tr>\n",
       "      <th>고양식사동(취)</th>\n",
       "      <td>83784.392092</td>\n",
       "    </tr>\n",
       "    <tr>\n",
       "      <th>고양우편집중국</th>\n",
       "      <td>83009.150743</td>\n",
       "    </tr>\n",
       "    <tr>\n",
       "      <th>고양일산2동우체국</th>\n",
       "      <td>87225.373199</td>\n",
       "    </tr>\n",
       "    <tr>\n",
       "      <th>...</th>\n",
       "      <td>...</td>\n",
       "    </tr>\n",
       "    <tr>\n",
       "      <th>평택LG전자(취)</th>\n",
       "      <td>41449.473809</td>\n",
       "    </tr>\n",
       "    <tr>\n",
       "      <th>평택대학교(취)</th>\n",
       "      <td>43211.220332</td>\n",
       "    </tr>\n",
       "    <tr>\n",
       "      <th>평택서정(취)</th>\n",
       "      <td>46553.103482</td>\n",
       "    </tr>\n",
       "    <tr>\n",
       "      <th>평택세교동(취)</th>\n",
       "      <td>47003.334554</td>\n",
       "    </tr>\n",
       "    <tr>\n",
       "      <th>평택안정(취)</th>\n",
       "      <td>51640.090313</td>\n",
       "    </tr>\n",
       "    <tr>\n",
       "      <th>평택우체국</th>\n",
       "      <td>46540.591599</td>\n",
       "    </tr>\n",
       "    <tr>\n",
       "      <th>평택이충동(취)</th>\n",
       "      <td>45286.123878</td>\n",
       "    </tr>\n",
       "    <tr>\n",
       "      <th>평택중앙동우체국</th>\n",
       "      <td>46376.189520</td>\n",
       "    </tr>\n",
       "    <tr>\n",
       "      <th>평택하북(취)</th>\n",
       "      <td>43976.835734</td>\n",
       "    </tr>\n",
       "    <tr>\n",
       "      <th>평택합정동우체국</th>\n",
       "      <td>46610.807635</td>\n",
       "    </tr>\n",
       "    <tr>\n",
       "      <th>평택현화우체국</th>\n",
       "      <td>60527.165880</td>\n",
       "    </tr>\n",
       "    <tr>\n",
       "      <th>포승우체국</th>\n",
       "      <td>64086.810264</td>\n",
       "    </tr>\n",
       "    <tr>\n",
       "      <th>포천군내우체국</th>\n",
       "      <td>81466.955433</td>\n",
       "    </tr>\n",
       "    <tr>\n",
       "      <th>포천선단(취)</th>\n",
       "      <td>79891.217074</td>\n",
       "    </tr>\n",
       "    <tr>\n",
       "      <th>포천송우우체국</th>\n",
       "      <td>78188.867013</td>\n",
       "    </tr>\n",
       "    <tr>\n",
       "      <th>포천신북우체국</th>\n",
       "      <td>88115.622343</td>\n",
       "    </tr>\n",
       "    <tr>\n",
       "      <th>포천영중우체국</th>\n",
       "      <td>92644.662790</td>\n",
       "    </tr>\n",
       "    <tr>\n",
       "      <th>포천우체국</th>\n",
       "      <td>83159.665774</td>\n",
       "    </tr>\n",
       "    <tr>\n",
       "      <th>포천이동우체국</th>\n",
       "      <td>93442.677840</td>\n",
       "    </tr>\n",
       "    <tr>\n",
       "      <th>포천일동우체국</th>\n",
       "      <td>84751.828661</td>\n",
       "    </tr>\n",
       "    <tr>\n",
       "      <th>하남석해(취)</th>\n",
       "      <td>47847.614620</td>\n",
       "    </tr>\n",
       "    <tr>\n",
       "      <th>하남우체국</th>\n",
       "      <td>48611.209878</td>\n",
       "    </tr>\n",
       "    <tr>\n",
       "      <th>하남창우동우체국</th>\n",
       "      <td>47309.572099</td>\n",
       "    </tr>\n",
       "    <tr>\n",
       "      <th>하성우체국</th>\n",
       "      <td>99672.162312</td>\n",
       "    </tr>\n",
       "    <tr>\n",
       "      <th>한신대학교(취)</th>\n",
       "      <td>46426.478611</td>\n",
       "    </tr>\n",
       "    <tr>\n",
       "      <th>현덕우체국</th>\n",
       "      <td>61504.873959</td>\n",
       "    </tr>\n",
       "    <tr>\n",
       "      <th>화성동탄3동우체국</th>\n",
       "      <td>43311.437681</td>\n",
       "    </tr>\n",
       "    <tr>\n",
       "      <th>화성와우(취)</th>\n",
       "      <td>50433.192818</td>\n",
       "    </tr>\n",
       "    <tr>\n",
       "      <th>화성우체국</th>\n",
       "      <td>41533.127703</td>\n",
       "    </tr>\n",
       "    <tr>\n",
       "      <th>화성향남우체국</th>\n",
       "      <td>56401.220137</td>\n",
       "    </tr>\n",
       "  </tbody>\n",
       "</table>\n",
       "<p>638 rows × 1 columns</p>\n",
       "</div>"
      ],
      "text/plain": [
       "                     dist\n",
       "officeName               \n",
       "가정행정법원출장소    54826.168158\n",
       "가평북면우체국      75514.347055\n",
       "가평우체국        69909.333690\n",
       "가평조종우체국      70540.296960\n",
       "강상우체국        31613.064556\n",
       "강천우체국        17020.249217\n",
       "강하우체국        34792.240338\n",
       "강화갑곳리(취)    110985.995579\n",
       "강화우체국       111743.863264\n",
       "개군우체국        24884.125479\n",
       "검단우체국        88604.108218\n",
       "경기광주우체국      36102.875468\n",
       "경기광주태전(취)    35404.867584\n",
       "경기남양우체국      64890.647640\n",
       "경기옥천우체국      35979.772690\n",
       "경기용문우체국      31348.876870\n",
       "경기조안우체국      45045.501592\n",
       "경기파주우체국      95372.340917\n",
       "경인지방우정청      51424.422977\n",
       "경찰청우체국       65146.017294\n",
       "고양가좌동(취)     90969.890556\n",
       "고양대화동우체국     88208.843948\n",
       "고양덕양우체국      79479.774886\n",
       "고양마두1동(취)    84550.367481\n",
       "고양백석동우체국     83839.086042\n",
       "고양본동우체국      79861.714565\n",
       "고양삼송동(취)     76439.303260\n",
       "고양식사동(취)     83784.392092\n",
       "고양우편집중국      83009.150743\n",
       "고양일산2동우체국    87225.373199\n",
       "...                   ...\n",
       "평택LG전자(취)    41449.473809\n",
       "평택대학교(취)     43211.220332\n",
       "평택서정(취)      46553.103482\n",
       "평택세교동(취)     47003.334554\n",
       "평택안정(취)      51640.090313\n",
       "평택우체국        46540.591599\n",
       "평택이충동(취)     45286.123878\n",
       "평택중앙동우체국     46376.189520\n",
       "평택하북(취)      43976.835734\n",
       "평택합정동우체국     46610.807635\n",
       "평택현화우체국      60527.165880\n",
       "포승우체국        64086.810264\n",
       "포천군내우체국      81466.955433\n",
       "포천선단(취)      79891.217074\n",
       "포천송우우체국      78188.867013\n",
       "포천신북우체국      88115.622343\n",
       "포천영중우체국      92644.662790\n",
       "포천우체국        83159.665774\n",
       "포천이동우체국      93442.677840\n",
       "포천일동우체국      84751.828661\n",
       "하남석해(취)      47847.614620\n",
       "하남우체국        48611.209878\n",
       "하남창우동우체국     47309.572099\n",
       "하성우체국        99672.162312\n",
       "한신대학교(취)     46426.478611\n",
       "현덕우체국        61504.873959\n",
       "화성동탄3동우체국    43311.437681\n",
       "화성와우(취)      50433.192818\n",
       "화성우체국        41533.127703\n",
       "화성향남우체국      56401.220137\n",
       "\n",
       "[638 rows x 1 columns]"
      ]
     },
     "execution_count": 19,
     "metadata": {},
     "output_type": "execute_result"
    }
   ],
   "source": [
    "df_c"
   ]
  },
  {
   "cell_type": "code",
   "execution_count": 336,
   "metadata": {},
   "outputs": [],
   "source": [
    "# df_c['dist']"
   ]
  },
  {
   "cell_type": "code",
   "execution_count": 20,
   "metadata": {},
   "outputs": [
    {
     "name": "stdout",
     "output_type": "stream",
     "text": [
      "[523]\n",
      "[array([523], dtype=int64)]\n"
     ]
    }
   ],
   "source": [
    "minDist = df_c.min()\n",
    "select_indices = list(np.where(df_c['dist'] == minDist[0]))\n",
    "print(select_indices[0])\n",
    "print(select_indices)\n",
    "minDistOffice = df_c.index[select_indices[0]]"
   ]
  },
  {
   "cell_type": "code",
   "execution_count": 21,
   "metadata": {},
   "outputs": [
    {
     "name": "stdout",
     "output_type": "stream",
     "text": [
      "6808.787204308148\n"
     ]
    }
   ],
   "source": [
    "print(minDist[0])"
   ]
  },
  {
   "cell_type": "code",
   "execution_count": 22,
   "metadata": {},
   "outputs": [
    {
     "name": "stdout",
     "output_type": "stream",
     "text": [
      "가남우체국\n"
     ]
    }
   ],
   "source": [
    "print(wofficeName)"
   ]
  },
  {
   "cell_type": "code",
   "execution_count": 23,
   "metadata": {},
   "outputs": [
    {
     "name": "stdout",
     "output_type": "stream",
     "text": [
      "이천모가(취)\n"
     ]
    }
   ],
   "source": [
    "print(minDistOffice[0])"
   ]
  },
  {
   "cell_type": "code",
   "execution_count": 25,
   "metadata": {},
   "outputs": [
    {
     "data": {
      "text/html": [
       "<div>\n",
       "<style scoped>\n",
       "    .dataframe tbody tr th:only-of-type {\n",
       "        vertical-align: middle;\n",
       "    }\n",
       "\n",
       "    .dataframe tbody tr th {\n",
       "        vertical-align: top;\n",
       "    }\n",
       "\n",
       "    .dataframe thead th {\n",
       "        text-align: right;\n",
       "    }\n",
       "</style>\n",
       "<table border=\"1\" class=\"dataframe\">\n",
       "  <thead>\n",
       "    <tr style=\"text-align: right;\">\n",
       "      <th></th>\n",
       "      <th>address</th>\n",
       "      <th>latitude</th>\n",
       "      <th>longitude</th>\n",
       "      <th>nearestBranch</th>\n",
       "      <th>nrstBrDist</th>\n",
       "    </tr>\n",
       "    <tr>\n",
       "      <th>officeName</th>\n",
       "      <th></th>\n",
       "      <th></th>\n",
       "      <th></th>\n",
       "      <th></th>\n",
       "      <th></th>\n",
       "    </tr>\n",
       "  </thead>\n",
       "  <tbody>\n",
       "    <tr>\n",
       "      <th>이천모가(취)</th>\n",
       "      <td>경기 이천시 모가면 진상미로 1272-5</td>\n",
       "      <td>37.169686</td>\n",
       "      <td>127.479836</td>\n",
       "      <td>None</td>\n",
       "      <td>None</td>\n",
       "    </tr>\n",
       "  </tbody>\n",
       "</table>\n",
       "</div>"
      ],
      "text/plain": [
       "                           address   latitude   longitude nearestBranch  \\\n",
       "officeName                                                                \n",
       "이천모가(취)     경기 이천시 모가면 진상미로 1272-5  37.169686  127.479836          None   \n",
       "\n",
       "           nrstBrDist  \n",
       "officeName             \n",
       "이천모가(취)          None  "
      ]
     },
     "execution_count": 25,
     "metadata": {},
     "output_type": "execute_result"
    }
   ],
   "source": [
    "df[minDistOffice[0] : minDistOffice[0]]"
   ]
  },
  {
   "cell_type": "code",
   "execution_count": 27,
   "metadata": {},
   "outputs": [
    {
     "ename": "NameError",
     "evalue": "name 'woffinceName' is not defined",
     "output_type": "error",
     "traceback": [
      "\u001b[1;31m---------------------------------------------------------------------------\u001b[0m",
      "\u001b[1;31mNameError\u001b[0m                                 Traceback (most recent call last)",
      "\u001b[1;32m<ipython-input-27-adef5556f154>\u001b[0m in \u001b[0;36m<module>\u001b[1;34m()\u001b[0m\n\u001b[1;32m----> 1\u001b[1;33m \u001b[0mdf\u001b[0m\u001b[1;33m[\u001b[0m\u001b[0mwoffinceName\u001b[0m \u001b[1;33m:\u001b[0m \u001b[0mwofficeName\u001b[0m\u001b[1;33m]\u001b[0m\u001b[1;33m\u001b[0m\u001b[0m\n\u001b[0m",
      "\u001b[1;31mNameError\u001b[0m: name 'woffinceName' is not defined"
     ]
    }
   ],
   "source": [
    "df[woffinceName : wofficeName] # 삭제 되어 오류 발생"
   ]
  },
  {
   "cell_type": "code",
   "execution_count": 28,
   "metadata": {},
   "outputs": [],
   "source": [
    "conn = sqlite3.connect(r'C:\\Temp\\loc_post.db')\n",
    "cursor = conn.cursor()"
   ]
  },
  {
   "cell_type": "code",
   "execution_count": 29,
   "metadata": {},
   "outputs": [
    {
     "name": "stdout",
     "output_type": "stream",
     "text": [
      "이천모가(취) 6808.787204308148 가남우체국\n"
     ]
    }
   ],
   "source": [
    "print (minDistOffice[0], minDist[0], wofficeName)"
   ]
  },
  {
   "cell_type": "code",
   "execution_count": 31,
   "metadata": {
    "scrolled": true
   },
   "outputs": [
    {
     "data": {
      "text/plain": [
       "<sqlite3.Cursor at 0x20c3481fdc0>"
      ]
     },
     "execution_count": 31,
     "metadata": {},
     "output_type": "execute_result"
    }
   ],
   "source": [
    "# sql_update = \"UPDATE position SET nearestBranch = '이천모가(취)' ,nrstBrDist = 999 where officeName = '가남우체국'\"\n",
    "sql_update = \"UPDATE position SET nearestBranch = ?, nrstBrDist = ? where officeName = ?\"\n",
    "cursor.execute(sql_update,(minDistOffice[0], minDist[0], wofficeName))"
   ]
  },
  {
   "cell_type": "code",
   "execution_count": 32,
   "metadata": {
    "scrolled": true
   },
   "outputs": [
    {
     "name": "stdout",
     "output_type": "stream",
     "text": [
      "[(0, '가남우체국', '경기 여주시 가남읍 태평로 29', 37.2017393, 127.5451354, '이천모가(취)', 6808.787204308148), (524, '이천모가(취)', '경기 이천시 모가면 진상미로 1272-5', 37.1696861, 127.4798358, None, None)]\n"
     ]
    }
   ],
   "source": [
    "sql = \"select * from position where officeName = '이천모가(취)' or officeName = '가남우체국'\"\n",
    "cursor.execute(sql)\n",
    "print(cursor.fetchall())\n"
   ]
  },
  {
   "cell_type": "code",
   "execution_count": 33,
   "metadata": {},
   "outputs": [],
   "source": [
    "conn.commit()\n",
    "conn.close()"
   ]
  },
  {
   "cell_type": "code",
   "execution_count": 200,
   "metadata": {},
   "outputs": [
    {
     "data": {
      "text/plain": [
       "pandas.core.series.Series"
      ]
     },
     "execution_count": 200,
     "metadata": {},
     "output_type": "execute_result"
    }
   ],
   "source": []
  }
 ],
 "metadata": {
  "kernelspec": {
   "display_name": "Python 3",
   "language": "python",
   "name": "python3"
  },
  "language_info": {
   "codemirror_mode": {
    "name": "ipython",
    "version": 3
   },
   "file_extension": ".py",
   "mimetype": "text/x-python",
   "name": "python",
   "nbconvert_exporter": "python",
   "pygments_lexer": "ipython3",
   "version": "3.6.6"
  }
 },
 "nbformat": 4,
 "nbformat_minor": 2
}
