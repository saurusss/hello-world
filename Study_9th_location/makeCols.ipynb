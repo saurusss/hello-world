{
 "cells": [
  {
   "cell_type": "code",
   "execution_count": 1,
   "metadata": {},
   "outputs": [],
   "source": [
    "import pandas as pd\n",
    "import numpy as np\n",
    "import sqlite3\n",
    "import math\n",
    "import datetime"
   ]
  },
  {
   "cell_type": "code",
   "execution_count": 2,
   "metadata": {},
   "outputs": [
    {
     "name": "stdout",
     "output_type": "stream",
     "text": [
      "********** start of job **********\n"
     ]
    }
   ],
   "source": [
    "print(\"*\"*10, \"start of job\", \"*\"*10)\n",
    "conn = sqlite3.connect(r'C:\\Temp\\loc_post.db')\n",
    "df = pd.read_sql_query(\"select * from position where nearestBranch is null\", conn)\n",
    "cnt = len(df)"
   ]
  },
  {
   "cell_type": "code",
   "execution_count": 3,
   "metadata": {},
   "outputs": [],
   "source": [
    "conn = sqlite3.connect(r'C:\\Temp\\loc_post.db')\n",
    "cursor = conn.cursor()\n",
    "\n",
    "df = pd.read_sql_query(\"select * from position where nearestBranch is null\", conn)"
   ]
  },
  {
   "cell_type": "code",
   "execution_count": 4,
   "metadata": {},
   "outputs": [],
   "source": [
    "cnt = len(df)\n",
    "cnt -= 1\n",
    "\n",
    "conn.close()"
   ]
  },
  {
   "cell_type": "code",
   "execution_count": 5,
   "metadata": {},
   "outputs": [],
   "source": [
    "del df['index']\n",
    "df = df.set_index('officeName')\n",
    "df_N = df"
   ]
  },
  {
   "cell_type": "code",
   "execution_count": 6,
   "metadata": {},
   "outputs": [
    {
     "data": {
      "text/html": [
       "<div>\n",
       "<style scoped>\n",
       "    .dataframe tbody tr th:only-of-type {\n",
       "        vertical-align: middle;\n",
       "    }\n",
       "\n",
       "    .dataframe tbody tr th {\n",
       "        vertical-align: top;\n",
       "    }\n",
       "\n",
       "    .dataframe thead th {\n",
       "        text-align: right;\n",
       "    }\n",
       "</style>\n",
       "<table border=\"1\" class=\"dataframe\">\n",
       "  <thead>\n",
       "    <tr style=\"text-align: right;\">\n",
       "      <th></th>\n",
       "      <th>level_0</th>\n",
       "      <th>address</th>\n",
       "      <th>latitude</th>\n",
       "      <th>longitude</th>\n",
       "      <th>nearestBranch2</th>\n",
       "      <th>nrstBrDist2</th>\n",
       "      <th>nearestBranch1</th>\n",
       "      <th>nrstBrDist1</th>\n",
       "      <th>nearestBranch</th>\n",
       "      <th>nrstBrDist</th>\n",
       "    </tr>\n",
       "    <tr>\n",
       "      <th>officeName</th>\n",
       "      <th></th>\n",
       "      <th></th>\n",
       "      <th></th>\n",
       "      <th></th>\n",
       "      <th></th>\n",
       "      <th></th>\n",
       "      <th></th>\n",
       "      <th></th>\n",
       "      <th></th>\n",
       "      <th></th>\n",
       "    </tr>\n",
       "  </thead>\n",
       "  <tbody>\n",
       "    <tr>\n",
       "      <th>가평우체국</th>\n",
       "      <td>3</td>\n",
       "      <td>경기 가평군 가평읍 보납로 2 (가평우체국)</td>\n",
       "      <td>37.831068</td>\n",
       "      <td>127.510743</td>\n",
       "      <td>청평우체국</td>\n",
       "      <td>13132.042655</td>\n",
       "      <td>None</td>\n",
       "      <td>None</td>\n",
       "      <td>None</td>\n",
       "      <td>None</td>\n",
       "    </tr>\n",
       "  </tbody>\n",
       "</table>\n",
       "</div>"
      ],
      "text/plain": [
       "            level_0                   address   latitude   longitude  \\\n",
       "officeName                                                             \n",
       "가평우체국             3  경기 가평군 가평읍 보납로 2 (가평우체국)  37.831068  127.510743   \n",
       "\n",
       "           nearestBranch2   nrstBrDist2 nearestBranch1 nrstBrDist1  \\\n",
       "officeName                                                           \n",
       "가평우체국               청평우체국  13132.042655           None        None   \n",
       "\n",
       "           nearestBranch nrstBrDist  \n",
       "officeName                           \n",
       "가평우체국               None       None  "
      ]
     },
     "execution_count": 6,
     "metadata": {},
     "output_type": "execute_result"
    }
   ],
   "source": [
    "df"
   ]
  }
 ],
 "metadata": {
  "kernelspec": {
   "display_name": "Python 3",
   "language": "python",
   "name": "python3"
  },
  "language_info": {
   "codemirror_mode": {
    "name": "ipython",
    "version": 3
   },
   "file_extension": ".py",
   "mimetype": "text/x-python",
   "name": "python",
   "nbconvert_exporter": "python",
   "pygments_lexer": "ipython3",
   "version": "3.6.6"
  }
 },
 "nbformat": 4,
 "nbformat_minor": 2
}
