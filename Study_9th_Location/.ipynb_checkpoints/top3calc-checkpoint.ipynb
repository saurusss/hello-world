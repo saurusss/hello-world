{
 "cells": [
  {
   "cell_type": "code",
   "execution_count": 88,
   "metadata": {},
   "outputs": [],
   "source": [
    "import pandas as pd\n",
    "import numpy as np\n",
    "import sqlite3\n",
    "import math\n",
    "import datetime"
   ]
  },
  {
   "cell_type": "code",
   "execution_count": 89,
   "metadata": {},
   "outputs": [
    {
     "name": "stdout",
     "output_type": "stream",
     "text": [
      "********** start of job **********\n"
     ]
    }
   ],
   "source": [
    " \n",
    "\n",
    "print(\"*\"*10, \"start of job\", \"*\"*10)\n",
    "conn = sqlite3.connect(r'C:\\Temp\\loc_post.db')\n",
    "df = pd.read_sql_query(\"select * from position\", conn)\n",
    "conn.close()"
   ]
  },
  {
   "cell_type": "code",
   "execution_count": null,
   "metadata": {},
   "outputs": [],
   "source": [
    "# 입력 정보 정리\n",
    "del df['index']\n",
    "df = df.set_index('officeName')\n",
    "# df = df.sort_index(ascending=False)\n",
    "# df = df.sort_values(by='address',ascending=False)"
   ]
  },
  {
   "cell_type": "code",
   "execution_count": null,
   "metadata": {},
   "outputs": [
    {
     "name": "stdout",
     "output_type": "stream",
     "text": [
      "관내국: 0 \t1st 1 54.83 Km \t2dn 2 75.51 Km \t3rd 3 69.91 Km\n",
      "관내국: 1 \t1st 1 0.0 Km \t2dn 2 64.54 Km \t3rd 3 58.27 Km\n",
      "관내국: 2 \t1st 1 64.54 Km \t2dn 2 0.0 Km \t3rd 3 6.54 Km\n",
      "관내국: 3 \t1st 1 58.27 Km \t2dn 2 6.54 Km \t3rd 3 0.0 Km\n",
      "관내국: 4 \t1st 1 47.47 Km \t2dn 2 19.09 Km \t3rd 3 14.51 Km\n",
      "관내국: 5 \t1st 1 40.44 Km \t2dn 2 44.7 Km \t3rd 3 38.75 Km\n",
      "관내국: 6 \t1st 1 64.96 Km \t2dn 2 69.45 Km \t3rd 3 64.76 Km\n",
      "관내국: 7 \t1st 1 33.91 Km \t2dn 2 44.52 Km \t3rd 3 38.21 Km\n",
      "관내국: 8 \t1st 1 56.16 Km \t2dn 2 94.73 Km \t3rd 3 90.73 Km\n",
      "관내국: 9 \t1st 1 56.92 Km \t2dn 2 95.42 Km \t3rd 3 91.44 Km\n"
     ]
    }
   ],
   "source": [
    "#단위당 거리(미터)\n",
    "baseLat = 110979.309    # 검증 필요\n",
    "baseLon = 88907.949     # 검증 필요\n",
    "\n",
    "for i in df.index:\n",
    "        # 작업용 DF 설정\n",
    "        wdf =  pd.DataFrame(columns=['officeName','dist']).set_index('officeName')\n",
    "        wofficeName = df.loc[i].name\n",
    "        wlat = df.loc[wofficeName]['latitude']\n",
    "        wlon = df.loc[wofficeName]['longitude']\n",
    "        # print(wofficeName, wlat, wlon)\n",
    "\n",
    "        for j in df.index:\n",
    "                wdf.loc[j] = math.sqrt(  (abs(df.loc[j]['latitude'] - wlat)*baseLat)**2 + \\\n",
    "                 (abs(df.loc[j]['longitude'] - wlon)*baseLon)**2  )\n",
    "                \n",
    "        selectedBr = []\n",
    "        selectedDist = []\n",
    "        \n",
    "        for k in wdf.index[1:4]:\n",
    "                selectedBr.append(k)\n",
    "                selectedDist.append(int(wdf.loc[k]['dist']))\n",
    "\n",
    "\n",
    "        conn = sqlite3.connect(r'C:\\Temp\\loc_post.db')\n",
    "        cursor = conn.cursor()\n",
    "        # sql_updBr = 'nBr' + str(cntt)\n",
    "        # sql_updDist = 'nDist' + str(cntt)\n",
    "        sql_update = \"UPDATE position SET  nBr1 = ?, nDist1 = ?, nBr2 = ?, nDist2 = ?, nBr3 = ?, nDist3 = ? \\\n",
    "                        where officeName = ?\"\n",
    "        cursor.execute(sql_update, (selectedBr[0], selectedDist[0], selectedBr[1], selectedDist[1], selectedBr[2], selectedDist[2], wofficeName) )\n",
    "        print( '관내국:', wofficeName, \n",
    "                        '\\t1st', selectedBr[0], format(round((selectedDist[0]/1000),2),','),'Km',\n",
    "                        '\\t2dn', selectedBr[1], format(round((selectedDist[1]/1000),2),','),'Km', \n",
    "                        '\\t3rd', selectedBr[2], format(round((selectedDist[2]/1000),2),','),'Km'  ) \n",
    "        conn.commit()   \n",
    "                \n",
    "conn.close()\n",
    "print(\"*\"*10, \"end of job\", \"*\"*10)"
   ]
  },
  {
   "cell_type": "code",
   "execution_count": 68,
   "metadata": {},
   "outputs": [
    {
     "name": "stdout",
     "output_type": "stream",
     "text": [
      "********** start of job **********\n"
     ]
    }
   ],
   "source": []
  },
  {
   "cell_type": "code",
   "execution_count": 69,
   "metadata": {},
   "outputs": [],
   "source": []
  },
  {
   "cell_type": "code",
   "execution_count": null,
   "metadata": {},
   "outputs": [],
   "source": []
  },
  {
   "cell_type": "code",
   "execution_count": null,
   "metadata": {},
   "outputs": [],
   "source": []
  },
  {
   "cell_type": "code",
   "execution_count": 70,
   "metadata": {},
   "outputs": [],
   "source": []
  },
  {
   "cell_type": "code",
   "execution_count": 71,
   "metadata": {},
   "outputs": [],
   "source": []
  },
  {
   "cell_type": "code",
   "execution_count": 72,
   "metadata": {},
   "outputs": [
    {
     "name": "stdout",
     "output_type": "stream",
     "text": [
      "화성향남우체국 37.1304505 126.9170299\n"
     ]
    }
   ],
   "source": []
  },
  {
   "cell_type": "code",
   "execution_count": 73,
   "metadata": {},
   "outputs": [],
   "source": []
  },
  {
   "cell_type": "code",
   "execution_count": null,
   "metadata": {},
   "outputs": [],
   "source": []
  },
  {
   "cell_type": "code",
   "execution_count": 77,
   "metadata": {},
   "outputs": [],
   "source": []
  },
  {
   "cell_type": "code",
   "execution_count": 78,
   "metadata": {},
   "outputs": [],
   "source": []
  },
  {
   "cell_type": "code",
   "execution_count": 79,
   "metadata": {},
   "outputs": [
    {
     "name": "stdout",
     "output_type": "stream",
     "text": [
      "['가정행정법원출장소', '가평북면우체국', '가평우체국'] [39423, 100501, 93978]\n"
     ]
    }
   ],
   "source": []
  },
  {
   "cell_type": "code",
   "execution_count": 87,
   "metadata": {},
   "outputs": [
    {
     "name": "stdout",
     "output_type": "stream",
     "text": [
      "관내국: 화성향남우체국 \t1st 가정행정법원출장소 39.42 Km \t2dn 가평북면우체국 100.5 Km \t3rd 가평우체국 93.98 Km\n"
     ]
    }
   ],
   "source": []
  }
 ],
 "metadata": {
  "kernelspec": {
   "display_name": "Python 3",
   "language": "python",
   "name": "python3"
  },
  "language_info": {
   "codemirror_mode": {
    "name": "ipython",
    "version": 3
   },
   "file_extension": ".py",
   "mimetype": "text/x-python",
   "name": "python",
   "nbconvert_exporter": "python",
   "pygments_lexer": "ipython3",
   "version": "3.6.6"
  }
 },
 "nbformat": 4,
 "nbformat_minor": 2
}
