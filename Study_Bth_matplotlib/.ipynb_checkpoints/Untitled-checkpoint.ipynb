{
 "cells": [
  {
   "cell_type": "code",
   "execution_count": null,
   "metadata": {},
   "outputs": [],
   "source": [
    "import os\n",
    "os.getenv('FOO')\n",
    "os.getenv('NOT_EXIST') #-> None"
   ]
  },
  {
   "cell_type": "code",
   "execution_count": 1,
   "metadata": {
    "collapsed": true
   },
   "outputs": [],
   "source": []
  },
  {
   "cell_type": "code",
   "execution_count": null,
   "metadata": {},
   "outputs": [],
   "source": []
  },
  {
   "cell_type": "code",
   "execution_count": 171,
   "metadata": {},
   "outputs": [
    {
     "name": "stdout",
     "output_type": "stream",
     "text": [
      "********** start of job ***********\n"
     ]
    }
   ],
   "source": [
    "print(\"*\"*10, \"start of job\", \"*\"*11)\n",
    "conn = sqlite3.connect(r'C:\\Temp\\loc_post.db')\n",
    "\n",
    "# zone = \"서울지방우정청\\'  or Department = \\'경인지방우정청\"\n",
    "# zoneName = \"Seoul + Kyeongki-Incheon\"\n",
    "# zone = \"서울지방우정청\"\n",
    "# zoneName = \"Seoul\"\n",
    "# zone = \"경인지방우정청\"\n",
    "# zoneName = \"Kyeongki-Incheon\"\n",
    "zone = \"충청지방우정청\"\n",
    "zoneName = \"Chungcheong\"\n",
    "# zone = \"강원지방우정청\"\n",
    "# zoneName = \"Kangweon\"\n",
    "# zone = \"우정공무원교육원\"\n",
    "# zoneName = \"Education\""
   ]
  },
  {
   "cell_type": "code",
   "execution_count": 172,
   "metadata": {},
   "outputs": [],
   "source": [
    "sqlQuery  = \"select officeName, latitude, longitude from position \\\n",
    "            where Department = \\'\"+ zone  + \"\\'\"   "
   ]
  },
  {
   "cell_type": "code",
   "execution_count": 173,
   "metadata": {},
   "outputs": [],
   "source": [
    "   \n",
    "    \n",
    "            \n",
    "df = pd.read_sql_query(sqlQuery, conn)\n",
    "# df = pd.read_sql_query(\"select officeName, latitude, longitude from position\", conn)\n",
    " \n",
    "df = df.set_index('officeName')"
   ]
  },
  {
   "cell_type": "code",
   "execution_count": 169,
   "metadata": {},
   "outputs": [
    {
     "data": {
      "text/plain": [
       "Index(['가곡우체국', '가덕우체국', '가야곡우체국', '갈산우체국', '감물우체국', '강경우체국', '강내우체국',\n",
       "       '건국대학교글로컬캠퍼스(취)', '결성우체국', '계룡금암동우체국',\n",
       "       ...\n",
       "       '합덕우체국', '홍동우체국', '홍북우체국', '홍성금당(취)', '홍성금마우체국', '홍성남장(취)', '홍성역전(취)',\n",
       "       '홍성우체국', '황간우체국', '회남우체국'],\n",
       "      dtype='object', name='officeName', length=371)"
      ]
     },
     "execution_count": 169,
     "metadata": {},
     "output_type": "execute_result"
    }
   ],
   "source": [
    "df.index"
   ]
  },
  {
   "cell_type": "code",
   "execution_count": 174,
   "metadata": {},
   "outputs": [
    {
     "name": "stdout",
     "output_type": "stream",
     "text": [
      "********** end   of job ***********\n"
     ]
    }
   ],
   "source": [
    "plt.title(zoneName)\n",
    "plt.scatter(df.longitude, df.latitude,  marker ='.', c='r')\n",
    "plt.ylabel('Latitude')\n",
    "plt.xlabel('Longitude')\n",
    "#plt.legend()\n",
    "plt.grid(True)\n",
    "plt.show()\n",
    "print(\"*\"*10, \"end   of job\", \"*\"*11)"
   ]
  }
 ],
 "metadata": {
  "kernelspec": {
   "display_name": "Python 3",
   "language": "python",
   "name": "python3"
  },
  "language_info": {
   "codemirror_mode": {
    "name": "ipython",
    "version": 3
   },
   "file_extension": ".py",
   "mimetype": "text/x-python",
   "name": "python",
   "nbconvert_exporter": "python",
   "pygments_lexer": "ipython3",
   "version": "3.6.6"
  }
 },
 "nbformat": 4,
 "nbformat_minor": 2
}
